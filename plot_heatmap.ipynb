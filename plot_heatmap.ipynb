{
 "cells": [
  {
   "cell_type": "code",
   "execution_count": null,
   "metadata": {},
   "outputs": [],
   "source": [
    "import numpy as np\n",
    "import matplotlib.pyplot as plt\n",
    "import pandas as pd\n",
    "from scipy.spatial.distance import pdist"
   ]
  },
  {
   "cell_type": "code",
   "execution_count": null,
   "metadata": {},
   "outputs": [],
   "source": [
    "# Read data from file\n",
    "data = pd.read_csv(\"QL109JA.cut.p.log.csv\", index_col = 'Accession', header = 0)\n",
    "# with header row and index column\n",
    "\n",
    "sorted_data = data.sort_index()\n",
    "#sorted_data = sorted_data.sort_values(by = \"T0.25\", axis = 0)\n",
    "# axis 0 means in the direction of column, each row as one instance"
   ]
  },
  {
   "cell_type": "code",
   "execution_count": null,
   "metadata": {},
   "outputs": [],
   "source": [
    "fig, ax = plt.subplots()\n",
    "heatmap = ax.pcolormesh(sorted_data, cmap=plt.cm.bwr, vmin = -2, vmax = 2, alpha = 0.8)\n",
    "# Format\n",
    "#fig = plt.gcf()\n",
    "fig.set_size_inches(8,11)\n",
    "# turn off the frame\n",
    "ax.set_frame_on(False)\n",
    "\n",
    "# put the major ticks at the middle of each cell\n",
    "ax.set_yticks(np.arange(sorted_data.shape[0]) + 0.5, minor=False)\n",
    "ax.set_xticks(np.arange(sorted_data.shape[1]) + 0.5, minor=False)\n",
    "\n",
    "# want a more natural, table-like display\n",
    "ax.invert_yaxis()\n",
    "ax.xaxis.tick_top()\n",
    "\n",
    "ax.set_xticklabels(sorted_data.columns, minor=False)\n",
    "ax.set_yticklabels(sorted_data.index, minor=False)\n",
    "# rotate the\n",
    "#plt.xticks(rotation=90)\n",
    "\n",
    "#ax.grid(False)\n",
    "# Turn off all the ticks\n",
    "\n",
    "#ax = plt.gca()\n",
    "\n",
    "for t in ax.xaxis.get_major_ticks():\n",
    "    t.tick1On = False\n",
    "    t.tick2On = False\n",
    "for t in ax.yaxis.get_major_ticks():\n",
    "    t.tick1On = False\n",
    "    t.tick2On = False\n",
    "\n",
    "plt.colorbar(heatmap, \n",
    "             orientation = 'vertical', \n",
    "             pad = 0.03, \n",
    "             shrink = 0.5, \n",
    "             extend = 'both', \n",
    "             ticks = (-2,-1,0,1,2))\n",
    "plt.show()"
   ]
  },
  {
   "cell_type": "markdown",
   "metadata": {},
   "source": [
    "## Now starting to calculate distances"
   ]
  },
  {
   "cell_type": "code",
   "execution_count": null,
   "metadata": {
    "collapsed": true
   },
   "outputs": [],
   "source": [
    "import numpy as np\n",
    "import matplotlib.pyplot as plt\n",
    "import pandas as pd\n",
    "from scipy.spatial.distance import pdist"
   ]
  },
  {
   "cell_type": "code",
   "execution_count": null,
   "metadata": {},
   "outputs": [],
   "source": [
    "dist_data = pdist(data,'euclidean')\n",
    "dist_data.dtype"
   ]
  }
 ],
 "metadata": {
  "kernelspec": {
   "display_name": "Python 3",
   "language": "python",
   "name": "python3"
  },
  "language_info": {
   "codemirror_mode": {
    "name": "ipython",
    "version": 3
   },
   "file_extension": ".py",
   "mimetype": "text/x-python",
   "name": "python",
   "nbconvert_exporter": "python",
   "pygments_lexer": "ipython3",
   "version": "3.6.1"
  }
 },
 "nbformat": 4,
 "nbformat_minor": 1
}
